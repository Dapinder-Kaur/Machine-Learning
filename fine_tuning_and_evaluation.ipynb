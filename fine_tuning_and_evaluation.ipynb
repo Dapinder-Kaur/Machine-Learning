{
 "cells": [
  {
   "cell_type": "markdown",
   "id": "96d78396-9a85-4066-9813-6fc2ede2ad5b",
   "metadata": {},
   "source": [
    "        COMP-2704: Supervised Machine Learning\n",
    "\n",
    "        Project – fine tuning and evaluation"
   ]
  },
  {
   "cell_type": "markdown",
   "id": "a0c5afd8-1c50-43bd-a1f5-899ffdfdc349",
   "metadata": {},
   "source": [
    "I went back to my data analysis and use case, restoring all the features that I removed earlier. Instead of removing the features, I used LabelEncoder() to encode them to integer values that would help train Machine Learning Models.\n",
    "\n",
    "Also, I made sure that the data was split ony into train/ test"
   ]
  },
  {
   "cell_type": "code",
   "execution_count": 1,
   "id": "0e5a5cc0-7712-495e-aa8c-db33aa4bbd3a",
   "metadata": {},
   "outputs": [],
   "source": [
    "# importing the packages\n",
    "import pandas as pd\n",
    "from sklearn.model_selection import GridSearchCV\n",
    "import numpy as np\n",
    "\n",
    "training = pd.read_csv('birds_training_data.csv')\n",
    "testing = pd.read_csv('birds_testing_data.csv')\n"
   ]
  },
  {
   "cell_type": "code",
   "execution_count": 2,
   "id": "6212dc25-f69c-4e02-b58f-06f3ca1f0e54",
   "metadata": {},
   "outputs": [],
   "source": [
    "# Storing the features and labels in four different pandas objects\n",
    "features_tr = training.drop(columns=['label'])\n",
    "label_tr = training['label']\n",
    "\n",
    "features_test = testing.drop(columns=['label'])\n",
    "label_test = testing['label']\n"
   ]
  },
  {
   "cell_type": "code",
   "execution_count": 3,
   "id": "d582c8d3-1abc-48f8-ad9b-df766cd46aa3",
   "metadata": {},
   "outputs": [],
   "source": [
    "# importing the regressor and gridsearch\n",
    "from sklearn.tree import DecisionTreeRegressor\n",
    "from sklearn.model_selection import GridSearchCV\n"
   ]
  },
  {
   "cell_type": "code",
   "execution_count": 4,
   "id": "50def572-c107-46f7-9864-137cef288833",
   "metadata": {},
   "outputs": [],
   "source": [
    "# defining the param grid\n",
    "param_grid = {\n",
    "    'criterion' : ['squared_error', 'friedman_mse', 'absolute_error'],\n",
    "    'max_depth': [1, 2, 4, 6],\n",
    "    'min_samples_leaf': [2,3,4,5],\n",
    "    'min_impurity_decrease': [0.01, 0.1, 0, 1]\n",
    "}"
   ]
  },
  {
   "cell_type": "code",
   "execution_count": 5,
   "id": "5f7e939b-985f-4430-85f1-70be75d91a30",
   "metadata": {},
   "outputs": [],
   "source": [
    "# Initializing the decision tree\n",
    "\n",
    "dec_tree = DecisionTreeRegressor()\n"
   ]
  },
  {
   "cell_type": "code",
   "execution_count": 6,
   "id": "3b9d5f51-832f-4057-8fda-92873ead205b",
   "metadata": {},
   "outputs": [],
   "source": [
    "# defining a StratifiedKFold object to setup cross-validation"
   ]
  },
  {
   "cell_type": "code",
   "execution_count": 7,
   "id": "07137ad3-1d6a-46e7-ae53-a598ecd8def9",
   "metadata": {},
   "outputs": [],
   "source": [
    "from sklearn.model_selection import StratifiedKFold\n",
    "str_kfold = StratifiedKFold(n_splits=5, shuffle=True)"
   ]
  },
  {
   "cell_type": "code",
   "execution_count": 8,
   "id": "aea342b5-8cdc-4845-8ede-5f64a4262256",
   "metadata": {},
   "outputs": [],
   "source": [
    "# I choose 'mse' for determining the best model\n",
    "\n",
    "from sklearn.metrics import mean_squared_error, make_scorer\n",
    "mse_score = make_scorer(mean_squared_error)"
   ]
  },
  {
   "cell_type": "code",
   "execution_count": 9,
   "id": "033d843c-b902-4c73-ba33-828bc91c2714",
   "metadata": {},
   "outputs": [
    {
     "name": "stderr",
     "output_type": "stream",
     "text": [
      "/home/dapinderkaur/miniconda3/envs/SML/lib/python3.8/site-packages/sklearn/model_selection/_split.py:737: UserWarning: The least populated class in y has only 1 members, which is less than n_splits=5.\n",
      "  warnings.warn(\n"
     ]
    }
   ],
   "source": [
    "# fitting the grid search\n",
    "from sklearn.pipeline import Pipeline\n",
    "\n",
    "grid_search = GridSearchCV(estimator=dec_tree, param_grid=param_grid, cv=str_kfold, scoring=mse_score, return_train_score=True, error_score='raise')\n",
    "try:\n",
    "    grid_search.fit(features_tr, label_tr)\n",
    "except ValueError as e:\n",
    "    print(e)"
   ]
  },
  {
   "cell_type": "code",
   "execution_count": 10,
   "id": "2281c2a5-1de0-4e42-b683-cdde86147c08",
   "metadata": {},
   "outputs": [
    {
     "name": "stdout",
     "output_type": "stream",
     "text": [
      "The model's best parameters are: {'criterion': 'absolute_error', 'max_depth': 6, 'min_impurity_decrease': 0, 'min_samples_leaf': 2}\n"
     ]
    }
   ],
   "source": [
    "# displaying best parameters\n",
    "print(f\"The model's best parameters are: { grid_search.best_params_}\")"
   ]
  },
  {
   "cell_type": "code",
   "execution_count": 11,
   "id": "4fe68481-5b04-466a-9fe4-ef56cf614a7b",
   "metadata": {},
   "outputs": [
    {
     "name": "stdout",
     "output_type": "stream",
     "text": [
      "The weighted mean training score: 2.2814662838955284\n"
     ]
    }
   ],
   "source": [
    "# displaying the weighted_mean_training_score\n",
    "mean_train_score = grid_search.cv_results_['mean_train_score'][grid_search.best_index_]\n",
    "print(f\"The weighted mean training score: {mean_train_score}\")"
   ]
  },
  {
   "cell_type": "code",
   "execution_count": 12,
   "id": "a475d650-0e7f-4b58-9653-6cd520690795",
   "metadata": {},
   "outputs": [
    {
     "name": "stdout",
     "output_type": "stream",
     "text": [
      "Weighted mean cross-validation score: 3.840600500417014\n"
     ]
    }
   ],
   "source": [
    "# Displaying the weighted mean cross validation score\n",
    "print(f\"Weighted mean cross-validation score: {grid_search.best_score_}\")"
   ]
  },
  {
   "cell_type": "code",
   "execution_count": 13,
   "id": "bffcafb7-6892-4aef-bab3-b0a46bed61bd",
   "metadata": {},
   "outputs": [
    {
     "name": "stdout",
     "output_type": "stream",
     "text": [
      "The mse in making predictions by the model: 3.6319148936170214\n"
     ]
    }
   ],
   "source": [
    "pred = grid_search.predict(features_test)\n",
    "\n",
    "# Since, my model is a regression model, the confusion_matrix and classification_report are not good \n",
    "# metrices to validate my model, so I use mean_squared_error\n",
    "mse = mean_squared_error(label_test, pred)\n",
    "print(f\"The mse in making predictions by the model: {mse}\")"
   ]
  },
  {
   "cell_type": "code",
   "execution_count": null,
   "id": "5ce997e1-8ee0-43f9-9ed9-5d6e73c05cf4",
   "metadata": {},
   "outputs": [],
   "source": []
  },
  {
   "cell_type": "code",
   "execution_count": 14,
   "id": "ab709021-db10-4dbe-ae32-4c2d132213cd",
   "metadata": {},
   "outputs": [],
   "source": [
    "# Training and evaluating SVM  using GridSearchCV from sklearn\n",
    "from sklearn.pipeline import Pipeline\n",
    "from sklearn.preprocessing import StandardScaler\n",
    "from sklearn.svm import SVR\n",
    "\n",
    "\n",
    "pipeline = Pipeline([\n",
    "      ('scaler', StandardScaler()),\n",
    "      ('SVR', SVR())\n",
    "])\n",
    "# the regression model SVR() does not have the 'class_weights' parameter"
   ]
  },
  {
   "cell_type": "code",
   "execution_count": 4,
   "id": "9c7c3eac-3c0a-4c2e-87c5-f7046b4d6a1f",
   "metadata": {},
   "outputs": [],
   "source": [
    "# defining a parameter grid for svr regressor\n",
    "param_grid_svr = {\n",
    "     \n",
    "     'SVR__C': [0.01, 0.1, 0.1, 10, 100],\n",
    "     'SVR__gamma': [ 0.01, 0.2, 0.3, 1, 10],\n",
    "     'SVR__kernel': ['linear', 'rbf']\n",
    "}"
   ]
  },
  {
   "cell_type": "code",
   "execution_count": 16,
   "id": "ca0a3c41-7b93-4f43-907d-fd61bb072950",
   "metadata": {},
   "outputs": [],
   "source": [
    "# defining str_kfold\n",
    "from sklearn.model_selection import StratifiedKFold\n",
    "\n",
    "str_kfold = StratifiedKFold(n_splits=5, shuffle=True)\n"
   ]
  },
  {
   "cell_type": "code",
   "execution_count": 17,
   "id": "f178f30d-1d0e-4425-9def-18df56001e16",
   "metadata": {},
   "outputs": [],
   "source": [
    "# I choose mean squared error as a metric \n",
    "mse_scorer = make_scorer(mean_squared_error)"
   ]
  },
  {
   "cell_type": "code",
   "execution_count": 18,
   "id": "517d9026-2e70-4aa2-8ba8-3b89a308b072",
   "metadata": {},
   "outputs": [],
   "source": [
    "# fitting the grid search model for SVM\n",
    "grid_search_svr = GridSearchCV(pipeline, param_grid_svr, cv=str_kfold, scoring=mse_scorer, return_train_score=True)"
   ]
  },
  {
   "cell_type": "code",
   "execution_count": 19,
   "id": "35b3ab79-f54b-4488-867a-db1500925c71",
   "metadata": {},
   "outputs": [
    {
     "name": "stderr",
     "output_type": "stream",
     "text": [
      "/home/dapinderkaur/miniconda3/envs/SML/lib/python3.8/site-packages/sklearn/model_selection/_split.py:737: UserWarning: The least populated class in y has only 1 members, which is less than n_splits=5.\n",
      "  warnings.warn(\n"
     ]
    },
    {
     "data": {
      "text/html": [
       "<style>#sk-container-id-1 {color: black;}#sk-container-id-1 pre{padding: 0;}#sk-container-id-1 div.sk-toggleable {background-color: white;}#sk-container-id-1 label.sk-toggleable__label {cursor: pointer;display: block;width: 100%;margin-bottom: 0;padding: 0.3em;box-sizing: border-box;text-align: center;}#sk-container-id-1 label.sk-toggleable__label-arrow:before {content: \"▸\";float: left;margin-right: 0.25em;color: #696969;}#sk-container-id-1 label.sk-toggleable__label-arrow:hover:before {color: black;}#sk-container-id-1 div.sk-estimator:hover label.sk-toggleable__label-arrow:before {color: black;}#sk-container-id-1 div.sk-toggleable__content {max-height: 0;max-width: 0;overflow: hidden;text-align: left;background-color: #f0f8ff;}#sk-container-id-1 div.sk-toggleable__content pre {margin: 0.2em;color: black;border-radius: 0.25em;background-color: #f0f8ff;}#sk-container-id-1 input.sk-toggleable__control:checked~div.sk-toggleable__content {max-height: 200px;max-width: 100%;overflow: auto;}#sk-container-id-1 input.sk-toggleable__control:checked~label.sk-toggleable__label-arrow:before {content: \"▾\";}#sk-container-id-1 div.sk-estimator input.sk-toggleable__control:checked~label.sk-toggleable__label {background-color: #d4ebff;}#sk-container-id-1 div.sk-label input.sk-toggleable__control:checked~label.sk-toggleable__label {background-color: #d4ebff;}#sk-container-id-1 input.sk-hidden--visually {border: 0;clip: rect(1px 1px 1px 1px);clip: rect(1px, 1px, 1px, 1px);height: 1px;margin: -1px;overflow: hidden;padding: 0;position: absolute;width: 1px;}#sk-container-id-1 div.sk-estimator {font-family: monospace;background-color: #f0f8ff;border: 1px dotted black;border-radius: 0.25em;box-sizing: border-box;margin-bottom: 0.5em;}#sk-container-id-1 div.sk-estimator:hover {background-color: #d4ebff;}#sk-container-id-1 div.sk-parallel-item::after {content: \"\";width: 100%;border-bottom: 1px solid gray;flex-grow: 1;}#sk-container-id-1 div.sk-label:hover label.sk-toggleable__label {background-color: #d4ebff;}#sk-container-id-1 div.sk-serial::before {content: \"\";position: absolute;border-left: 1px solid gray;box-sizing: border-box;top: 0;bottom: 0;left: 50%;z-index: 0;}#sk-container-id-1 div.sk-serial {display: flex;flex-direction: column;align-items: center;background-color: white;padding-right: 0.2em;padding-left: 0.2em;position: relative;}#sk-container-id-1 div.sk-item {position: relative;z-index: 1;}#sk-container-id-1 div.sk-parallel {display: flex;align-items: stretch;justify-content: center;background-color: white;position: relative;}#sk-container-id-1 div.sk-item::before, #sk-container-id-1 div.sk-parallel-item::before {content: \"\";position: absolute;border-left: 1px solid gray;box-sizing: border-box;top: 0;bottom: 0;left: 50%;z-index: -1;}#sk-container-id-1 div.sk-parallel-item {display: flex;flex-direction: column;z-index: 1;position: relative;background-color: white;}#sk-container-id-1 div.sk-parallel-item:first-child::after {align-self: flex-end;width: 50%;}#sk-container-id-1 div.sk-parallel-item:last-child::after {align-self: flex-start;width: 50%;}#sk-container-id-1 div.sk-parallel-item:only-child::after {width: 0;}#sk-container-id-1 div.sk-dashed-wrapped {border: 1px dashed gray;margin: 0 0.4em 0.5em 0.4em;box-sizing: border-box;padding-bottom: 0.4em;background-color: white;}#sk-container-id-1 div.sk-label label {font-family: monospace;font-weight: bold;display: inline-block;line-height: 1.2em;}#sk-container-id-1 div.sk-label-container {text-align: center;}#sk-container-id-1 div.sk-container {/* jupyter's `normalize.less` sets `[hidden] { display: none; }` but bootstrap.min.css set `[hidden] { display: none !important; }` so we also need the `!important` here to be able to override the default hidden behavior on the sphinx rendered scikit-learn.org. See: https://github.com/scikit-learn/scikit-learn/issues/21755 */display: inline-block !important;position: relative;}#sk-container-id-1 div.sk-text-repr-fallback {display: none;}</style><div id=\"sk-container-id-1\" class=\"sk-top-container\"><div class=\"sk-text-repr-fallback\"><pre>GridSearchCV(cv=StratifiedKFold(n_splits=5, random_state=None, shuffle=True),\n",
       "             estimator=Pipeline(steps=[(&#x27;scaler&#x27;, StandardScaler()),\n",
       "                                       (&#x27;SVR&#x27;, SVR())]),\n",
       "             param_grid={&#x27;SVR__C&#x27;: [0.01, 0.1, 0.1, 10, 100],\n",
       "                         &#x27;SVR__gamma&#x27;: [0.01, 0.2, 0.3, 1, 10],\n",
       "                         &#x27;SVR__kernel&#x27;: [&#x27;linear&#x27;, &#x27;rbf&#x27;]},\n",
       "             return_train_score=True, scoring=make_scorer(mean_squared_error))</pre><b>In a Jupyter environment, please rerun this cell to show the HTML representation or trust the notebook. <br />On GitHub, the HTML representation is unable to render, please try loading this page with nbviewer.org.</b></div><div class=\"sk-container\" hidden><div class=\"sk-item sk-dashed-wrapped\"><div class=\"sk-label-container\"><div class=\"sk-label sk-toggleable\"><input class=\"sk-toggleable__control sk-hidden--visually\" id=\"sk-estimator-id-1\" type=\"checkbox\" ><label for=\"sk-estimator-id-1\" class=\"sk-toggleable__label sk-toggleable__label-arrow\">GridSearchCV</label><div class=\"sk-toggleable__content\"><pre>GridSearchCV(cv=StratifiedKFold(n_splits=5, random_state=None, shuffle=True),\n",
       "             estimator=Pipeline(steps=[(&#x27;scaler&#x27;, StandardScaler()),\n",
       "                                       (&#x27;SVR&#x27;, SVR())]),\n",
       "             param_grid={&#x27;SVR__C&#x27;: [0.01, 0.1, 0.1, 10, 100],\n",
       "                         &#x27;SVR__gamma&#x27;: [0.01, 0.2, 0.3, 1, 10],\n",
       "                         &#x27;SVR__kernel&#x27;: [&#x27;linear&#x27;, &#x27;rbf&#x27;]},\n",
       "             return_train_score=True, scoring=make_scorer(mean_squared_error))</pre></div></div></div><div class=\"sk-parallel\"><div class=\"sk-parallel-item\"><div class=\"sk-item\"><div class=\"sk-label-container\"><div class=\"sk-label sk-toggleable\"><input class=\"sk-toggleable__control sk-hidden--visually\" id=\"sk-estimator-id-2\" type=\"checkbox\" ><label for=\"sk-estimator-id-2\" class=\"sk-toggleable__label sk-toggleable__label-arrow\">estimator: Pipeline</label><div class=\"sk-toggleable__content\"><pre>Pipeline(steps=[(&#x27;scaler&#x27;, StandardScaler()), (&#x27;SVR&#x27;, SVR())])</pre></div></div></div><div class=\"sk-serial\"><div class=\"sk-item\"><div class=\"sk-serial\"><div class=\"sk-item\"><div class=\"sk-estimator sk-toggleable\"><input class=\"sk-toggleable__control sk-hidden--visually\" id=\"sk-estimator-id-3\" type=\"checkbox\" ><label for=\"sk-estimator-id-3\" class=\"sk-toggleable__label sk-toggleable__label-arrow\">StandardScaler</label><div class=\"sk-toggleable__content\"><pre>StandardScaler()</pre></div></div></div><div class=\"sk-item\"><div class=\"sk-estimator sk-toggleable\"><input class=\"sk-toggleable__control sk-hidden--visually\" id=\"sk-estimator-id-4\" type=\"checkbox\" ><label for=\"sk-estimator-id-4\" class=\"sk-toggleable__label sk-toggleable__label-arrow\">SVR</label><div class=\"sk-toggleable__content\"><pre>SVR()</pre></div></div></div></div></div></div></div></div></div></div></div></div>"
      ],
      "text/plain": [
       "GridSearchCV(cv=StratifiedKFold(n_splits=5, random_state=None, shuffle=True),\n",
       "             estimator=Pipeline(steps=[('scaler', StandardScaler()),\n",
       "                                       ('SVR', SVR())]),\n",
       "             param_grid={'SVR__C': [0.01, 0.1, 0.1, 10, 100],\n",
       "                         'SVR__gamma': [0.01, 0.2, 0.3, 1, 10],\n",
       "                         'SVR__kernel': ['linear', 'rbf']},\n",
       "             return_train_score=True, scoring=make_scorer(mean_squared_error))"
      ]
     },
     "execution_count": 19,
     "metadata": {},
     "output_type": "execute_result"
    }
   ],
   "source": [
    "grid_search_svr.fit(features_tr, label_tr)"
   ]
  },
  {
   "cell_type": "code",
   "execution_count": 22,
   "id": "f3fa81f7-1af0-43f7-8985-8ed65e52635a",
   "metadata": {},
   "outputs": [
    {
     "name": "stdout",
     "output_type": "stream",
     "text": [
      "The best model parameters of a  SVR model are: {'SVR__C': 100, 'SVR__gamma': 0.2, 'SVR__kernel': 'rbf'}\n"
     ]
    }
   ],
   "source": [
    "# Displaying the best model parameters\n",
    "print(f\"The best model hyperparameters of a  SVR model are: {grid_search_svr.best_params_}\")"
   ]
  },
  {
   "cell_type": "code",
   "execution_count": 24,
   "id": "3bced8b0-52b5-4c50-b45b-372ad37fbff7",
   "metadata": {},
   "outputs": [
    {
     "name": "stdout",
     "output_type": "stream",
     "text": [
      "The weighted mean training score: 2.349131599939523\n"
     ]
    }
   ],
   "source": [
    "# Displaying weighted mean training score\n",
    "mse_svr = grid_search.cv_results_['mean_train_score'][grid_search_svr.best_index_]\n",
    "print(f\"The weighted mean training score: {mse_svr}\")"
   ]
  },
  {
   "cell_type": "code",
   "execution_count": 25,
   "id": "f191e67a-fcde-407e-b716-b771d666f321",
   "metadata": {},
   "outputs": [
    {
     "name": "stdout",
     "output_type": "stream",
     "text": [
      "The weighted mean cross-validation score: 5.9628116813516785\n"
     ]
    }
   ],
   "source": [
    "# displaying the weighted mean cross-validation score\n",
    "print(f\"The weighted mean cross-validation score: {grid_search_svr.best_score_}\")"
   ]
  },
  {
   "cell_type": "code",
   "execution_count": 41,
   "id": "4074c886-966d-4af9-b3f5-bd298bd06328",
   "metadata": {},
   "outputs": [
    {
     "name": "stdout",
     "output_type": "stream",
     "text": [
      "The mean squared error in finding the predictions on the test data is: 5.750639294236479\n"
     ]
    }
   ],
   "source": [
    "# finding predictions\n",
    "pred_svr = grid_search_svr.predict(features_test)\n",
    "mse_svr = mean_squared_error(label_test, pred_svr)\n",
    "\n",
    "print(f\"The mean squared error in finding the predictions on the test data is: {mse_svr}\")\n",
    "#the confusion_matrix and classification_report are for classification and my model is regression "
   ]
  },
  {
   "cell_type": "markdown",
   "id": "08398045-ace1-4bb0-a8b9-0ee975bde058",
   "metadata": {},
   "source": [
    "# Discussing the best model"
   ]
  },
  {
   "cell_type": "markdown",
   "id": "0925cf77-a2dd-47ee-a311-06c677f0a3f0",
   "metadata": {},
   "source": [
    "Here, we notice that the mean_training score is almost same for both the decision tree and SVM models, however, the cross-validation and test scores for SVM model are comparitively higher suggesting overfitting, thus it cannot be good model as it tries to train itself learning the training data rather than understnading the underlying insights in the data. \n",
    "Meanwhile, the cross-validation and test scores for decision tree model are lower than SVM and also are closer to each other. \n",
    "\n",
    "Thus, it seems that the decision tree regressor is a good model, which is not overfitting and also has lower training, cross-validation and test scores.\n",
    "\n",
    "For the decision tree model: the best params are, {'criterion': 'absolute_error', 'max_depth': 6, 'min_impurity_decrease': 0, 'min_samples_leaf': 2}\n",
    "For SVM model: the best params are, {'SVR__C': 100, 'SVR__gamma': 0.2, 'SVR__kernel': 'rbf'}\n",
    "\n",
    "But still decision tree model performs better as it decides which feature to give most importance while predicting the labels. "
   ]
  },
  {
   "cell_type": "code",
   "execution_count": 30,
   "id": "78fbe787-2096-47ca-a489-c44fd4c6dc27",
   "metadata": {},
   "outputs": [],
   "source": [
    "# dumping the model to a pickle file \n",
    "import pickle\n",
    "with open('model.pkl', 'wb') as file:\n",
    "    pickle.dump(grid_search.best_estimator_, file)\n",
    "    "
   ]
  },
  {
   "cell_type": "code",
   "execution_count": 33,
   "id": "8f20a1ec-977e-4a91-a745-978fc59bcef1",
   "metadata": {},
   "outputs": [],
   "source": [
    "# loading the model from the pickle file\n",
    "with open('model.pkl', 'rb') as f:\n",
    "\n",
    "    model = pickle.load(f)"
   ]
  },
  {
   "cell_type": "code",
   "execution_count": 34,
   "id": "ad3f314d-e4cd-4ca7-9a65-f9c9b56841ee",
   "metadata": {},
   "outputs": [],
   "source": [
    "# making predictions using the model\n",
    "pred_test = model.predict(features_test)"
   ]
  },
  {
   "cell_type": "code",
   "execution_count": 37,
   "id": "fba93519-9d2a-4d4a-89f6-b3c9d7641982",
   "metadata": {},
   "outputs": [
    {
     "name": "stdout",
     "output_type": "stream",
     "text": [
      "The mse by the best model on the test data is: 3.6319148936170214\n"
     ]
    }
   ],
   "source": [
    "mse_best = mean_squared_error(label_test, pred_test)\n",
    "print(f\"The mse by the best model on the test data is: {mse_best}\")\n",
    "# The confusion matrix and classification report cannot be displayed for a regression model"
   ]
  },
  {
   "cell_type": "markdown",
   "id": "c06a64ba-7869-4983-b01f-5e615e8a4df9",
   "metadata": {},
   "source": [
    "My use case for my model was to predict number of birds in the Apline regions in Canada for researchers and bioactivists to know which bird populations are decreasing or will decrease by changing some of the climatic conditions and they need immediate action to prereserve those.\n",
    "\n",
    "With the testing mse of 3.6 in the decision tree regressor model seems good in preedicting the number of birds in Alpine regions in Canada. The predictions could be reliable as the goal is not to predict the exact number of birds in those, however, it is know which bird species' popultions are comapritively lower than others, so it to know which bird speci numbers are extremely less to bring solutions to this problem.\n",
    "\n",
    "Limitaions of the model:\n",
    "- Changing enviromental factors: As sometimes the birds may hibernate in extreme winters resulting in the lower number of birds being detected, so the training data itself being flawed may not preedict the exact number of birds.\n",
    "- Overfitting: The model might have trained by learning the training dataset while not realising the underlying patterns in it.\n",
    "  "
   ]
  },
  {
   "cell_type": "code",
   "execution_count": null,
   "id": "bdf3e26d-e597-44d1-bff6-e64ed08736e1",
   "metadata": {},
   "outputs": [],
   "source": []
  },
  {
   "cell_type": "code",
   "execution_count": null,
   "id": "7588c7a7-a9d1-48a7-a50e-133356bba3f2",
   "metadata": {},
   "outputs": [],
   "source": []
  },
  {
   "cell_type": "code",
   "execution_count": null,
   "id": "4c3910cd-1df7-403e-8390-0d0cc98f4c4f",
   "metadata": {},
   "outputs": [],
   "source": []
  },
  {
   "cell_type": "code",
   "execution_count": null,
   "id": "61d2ab30-5e5a-41be-a1a6-1f1317c9bfdc",
   "metadata": {},
   "outputs": [],
   "source": []
  },
  {
   "cell_type": "code",
   "execution_count": null,
   "id": "d8c733d7-7600-469a-b904-8b46aff49060",
   "metadata": {},
   "outputs": [],
   "source": []
  },
  {
   "cell_type": "code",
   "execution_count": null,
   "id": "83356c35-0e65-4eb8-a566-0aa77918e104",
   "metadata": {},
   "outputs": [],
   "source": [
    "\n"
   ]
  },
  {
   "cell_type": "code",
   "execution_count": null,
   "id": "1828325d-7d88-42ca-be3c-b38c636c93a3",
   "metadata": {},
   "outputs": [],
   "source": []
  },
  {
   "cell_type": "code",
   "execution_count": null,
   "id": "f8a1c609-dc98-4ebf-9575-879c75c63a68",
   "metadata": {},
   "outputs": [],
   "source": []
  },
  {
   "cell_type": "code",
   "execution_count": null,
   "id": "18e9ed15-1167-4513-be5d-73537e4879b5",
   "metadata": {},
   "outputs": [],
   "source": []
  }
 ],
 "metadata": {
  "kernelspec": {
   "display_name": "Python 3 (ipykernel)",
   "language": "python",
   "name": "python3"
  },
  "language_info": {
   "codemirror_mode": {
    "name": "ipython",
    "version": 3
   },
   "file_extension": ".py",
   "mimetype": "text/x-python",
   "name": "python",
   "nbconvert_exporter": "python",
   "pygments_lexer": "ipython3",
   "version": "3.8.19"
  }
 },
 "nbformat": 4,
 "nbformat_minor": 5
}
